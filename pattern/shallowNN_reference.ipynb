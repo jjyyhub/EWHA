{
  "cells": [
    {
      "cell_type": "code",
      "execution_count": 1,
      "metadata": {
        "colab": {},
        "colab_type": "code",
        "id": "0Xv5LvqCnq80"
      },
      "outputs": [],
      "source": [
        "#Library\n",
        "\n",
        "import torch\n",
        "import numpy as np\n",
        "from torch.autograd import Variable\n",
        "from torch.utils.data import Dataset,DataLoader\n",
        "import matplotlib.pyplot as plt"
      ]
    },
    {
      "cell_type": "code",
      "execution_count": 3,
      "metadata": {
        "colab": {},
        "colab_type": "code",
        "id": "GoEsGmmYoanx"
      },
      "outputs": [],
      "source": [
        "#Make a dataset\n",
        "\n",
        "class CoordinateDataset(Dataset):   \n",
        "    def __init__(self):\n",
        "        #Enter the address of data\n",
        "        csvData=np.loadtxt('./data_spiral.csv',delimiter=',',dtype=np.float32)\n",
        "        self.len=csvData.shape[0]\n",
        "        self.X=torch.from_numpy(csvData[:,:2]) #coordinates\n",
        "        self.Y=torch.from_numpy(csvData[:,-1]).type(torch.LongTensor) #class\n",
        "        \n",
        "    def __getitem__(self,index):\n",
        "        return self.X[index], self.Y[index]\n",
        "    \n",
        "    def __len__(self):\n",
        "        return self.len\n",
        "    \n",
        "dataset = CoordinateDataset()\n",
        "train_loader = DataLoader(dataset = dataset,\n",
        "                         batch_size=32,\n",
        "                         shuffle=True,\n",
        "                         num_workers=0)"
      ]
    },
    {
      "cell_type": "code",
      "execution_count": 4,
      "metadata": {
        "colab": {
          "base_uri": "https://localhost:8080/",
          "height": 283
        },
        "colab_type": "code",
        "id": "jPF-HJSA9sl_",
        "outputId": "f29e8f81-4e11-436d-f129-e3a189cb73a6"
      },
      "outputs": [
        {
          "data": {
            "text/plain": [
              "<matplotlib.collections.PathCollection at 0x10f066710>"
            ]
          },
          "execution_count": 4,
          "metadata": {},
          "output_type": "execute_result"
        },
        {
          "data": {
            "image/png": "[encoded data removed]",
            "text/plain": [
              "<Figure size 640x480 with 1 Axes>"
            ]
          },
          "metadata": {},
          "output_type": "display_data"
        }
      ],
      "source": [
        "#Display the data\n",
        "#Not required\n",
        "\n",
        "#Enter the address of data\n",
        "data=np.loadtxt('./data_spiral.csv',delimiter=',',dtype=np.float32)\n",
        "\n",
        "zeroData=np.zeros((400,2))\n",
        "oneData=np.zeros((400,2))\n",
        "\n",
        "for i in range(data.shape[0]):\n",
        "  if (data[i,-1]==0):\n",
        "    zeroData[i,0]=data[i,0]\n",
        "    zeroData[i,1]=data[i,1]\n",
        "  else:\n",
        "    oneData[i,0]=data[i,0]\n",
        "    oneData[i,1]=data[i,1]\n",
        "\n",
        "plt.scatter(zeroData[:,0],zeroData[:,1],c='r')\n",
        "plt.scatter(oneData[:,0],oneData[:,1],c='b')"
      ]
    },
    {
      "cell_type": "code",
      "execution_count": null,
      "metadata": {
        "colab": {},
        "colab_type": "code",
        "id": "66d3YA4doc8k"
      },
      "outputs": [],
      "source": [
        "#Make a model\n",
        "\n",
        "class Net(torch.nn.Module):\n",
        "    \n",
        "    def __init__(self):\n",
        "        super(Net,self).__init__()\n",
        "        self.relu = torch.nn.ReLU()\n",
        "        self.tanh = torch.nn.Tanh()\n",
        "        self.l1=torch.nn.Linear(2,8) \n",
        "        self.l2=torch.nn.Linear(8,8)\n",
        "        self.l3=torch.nn.Linear(8,2)\n",
        " \n",
        "        \n",
        "        \n",
        "    def forward(self,x):\n",
        "        x = self.l1(x)    #self.relu(self.l1(x))\n",
        "        x = self.l2(x)    #self.relu(self.l2(x))\n",
        "        x = self.l3(x)\n",
        "        return x\n",
        "\n",
        "model = Net()"
      ]
    },
    {
      "cell_type": "code",
      "execution_count": 22,
      "metadata": {
        "colab": {
          "base_uri": "https://localhost:8080/",
          "height": 52
        },
        "colab_type": "code",
        "id": "68zUlW2IofNW",
        "outputId": "5e203508-96ee-4599-eb9e-368a11470ec8"
      },
      "outputs": [
        {
          "name": "stdout",
          "output_type": "stream",
          "text": [
            "START EPOCH\n",
            "END\n"
          ]
        }
      ],
      "source": [
        "criterion = torch.nn.CrossEntropyLoss()\n",
        "optimizer = torch.optim.Adam(model.parameters(),lr=0.005)\n",
        "\n",
        "# Training loop\n",
        "print(\"START EPOCH\")\n",
        "for epoch in range(100):\n",
        "    #print(\"EPOCH : {} / 100\".format(epoch+1))\n",
        "    for i, data in enumerate(train_loader):\n",
        "        inputs, labels = data\n",
        "        inputs, labels = Variable(inputs), Variable(labels)\n",
        "\n",
        "        y_pred = model(inputs)\n",
        "\n",
        "        loss = criterion(y_pred, labels)\n",
        "        optimizer.zero_grad()\n",
        "        loss.backward()\n",
        "        optimizer.step()\n",
        "print(\"END\")"
      ]
    },
    {
      "cell_type": "code",
      "execution_count": 23,
      "metadata": {
        "colab": {
          "base_uri": "https://localhost:8080/",
          "height": 283
        },
        "colab_type": "code",
        "id": "bx_eX2j2ql21",
        "outputId": "c5f86f45-e3d3-4c2c-fecd-063f899aa2ba"
      },
      "outputs": [
        {
          "data": {
            "text/plain": [
              "<matplotlib.collections.PathCollection at 0x1240acb90>"
            ]
          },
          "execution_count": 23,
          "metadata": {},
          "output_type": "execute_result"
        },
        {
          "data": {
            "image/png": "[encoded data removed]",
            "text/plain": [
              "<Figure size 640x480 with 1 Axes>"
            ]
          },
          "metadata": {},
          "output_type": "display_data"
        }
      ],
      "source": [
        "#Make a test set and display results\n",
        "#Test set consists of 200*200 points\n",
        "\n",
        "testData = np.zeros((200*200,2))\n",
        "twoD = np.linspace(-10,10,200)\n",
        "a=0\n",
        "for i in range(200):\n",
        "  for j in range(200):\n",
        "    testData[a,0]=twoD[j,]\n",
        "    testData[a,1]=twoD[i,]\n",
        "    a=a+1\n",
        "testData = torch.from_numpy(np.float32(testData))\n",
        "\n",
        "redX = []\n",
        "redY = []\n",
        "blueX = []\n",
        "blueY = []\n",
        "\n",
        "for i, data in enumerate(train_loader):\n",
        "        # get the inputs\n",
        "        inputs, labels = data\n",
        "        # wrap them in Variable\n",
        "        inputs, labels = Variable(inputs), Variable(labels)\n",
        "\n",
        "        # Forward pass: Compute predicted y by passing x to the model\n",
        "        testPred = model(testData)\n",
        "        # Compute and print loss\n",
        "        v,r = testPred.max(1)\n",
        "        r = (r.detach().cpu().numpy())\n",
        "        coor = (testData.detach().cpu().numpy())\n",
        "\n",
        "        for j in range(len(r)):\n",
        "          if (r[j]==0):\n",
        "            redX.append(coor[j][0])\n",
        "            redY.append(coor[j][1])\n",
        "          else:\n",
        "            blueX.append(coor[j][0])\n",
        "            blueY.append(coor[j][1])\n",
        "\n",
        "plt.scatter(redX, redY, c='r')\n",
        "plt.scatter(blueX, blueY, c='b')"
      ]
    },
    {
      "cell_type": "code",
      "execution_count": 0,
      "metadata": {
        "colab": {},
        "colab_type": "code",
        "id": "ewVAQduLV5GI"
      },
      "outputs": [],
      "source": []
    }
  ],
  "metadata": {
    "accelerator": "GPU",
    "colab": {
      "collapsed_sections": [],
      "name": "shallowNN_reference.ipynb",
      "provenance": []
    },
    "kernelspec": {
      "display_name": "venv",
      "language": "python",
      "name": "python3"
    },
    "language_info": {
      "codemirror_mode": {
        "name": "ipython",
        "version": 3
      },
      "file_extension": ".py",
      "mimetype": "text/x-python",
      "name": "python",
      "nbconvert_exporter": "python",
      "pygments_lexer": "ipython3",
      "version": "3.13.3"
    }
  },
  "nbformat": 4,
  "nbformat_minor": 0
}
